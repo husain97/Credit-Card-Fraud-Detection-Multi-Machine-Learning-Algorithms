{
  "nbformat": 4,
  "nbformat_minor": 0,
  "metadata": {
    "colab": {
      "name": "GaussainNB-KNN-DCT-SVM(Credit Card Fraud Detection).ipynb",
      "provenance": []
    },
    "kernelspec": {
      "name": "python3",
      "display_name": "Python 3"
    }
  },
  "cells": [
    {
      "cell_type": "code",
      "metadata": {
        "id": "JJbeSPbi8vgj",
        "colab_type": "code",
        "colab": {}
      },
      "source": [
        "#IMPORTING DEPENDENCIES\n",
        "import pandas as pd\n",
        "import numpy as np\n",
        "\n",
        "#IMPORTING DATASET\n",
        "data = pd.read_csv('/content/gdrive/My Drive/Colab Notebooks/CreditCard_Fraud_Detection/creditcard.csv', index_col=False)\n",
        "df = data"
      ],
      "execution_count": 0,
      "outputs": []
    },
    {
      "cell_type": "code",
      "metadata": {
        "id": "G3uO07g5YLSY",
        "colab_type": "code",
        "colab": {}
      },
      "source": [
        "#ANALYSIS OF BAIS IN DATASET\n",
        "import matplotlib.pyplot as plt\n",
        "import seaborn as sns\n",
        "\n",
        "print('Distribution of the Classes in the subsample dataset')\n",
        "print(df['Class'].value_counts()/len(df))\n",
        "sns.countplot('Class', data=df)\n",
        "plt.title('Unequally Distributed Classes', fontsize=14)\n",
        "plt.show()"
      ],
      "execution_count": 0,
      "outputs": []
    },
    {
      "cell_type": "code",
      "metadata": {
        "id": "mOk-cs8mYmqW",
        "colab_type": "code",
        "colab": {}
      },
      "source": [
        "#SINCE THE DATASET IS HIGHLY UNBALANCED - APPLY RESAMPLING AND SHUFFLING TECHNIUES AND THEN ANALYSING THE BAIS IN RESAMPLED AND RESHUFFLED DATA\n",
        "\n",
        "#STEP 1 - SCALING THE TIME AND AMOUNT ATTRIBUTES USING ROBUSTSCALER \n",
        "from sklearn import preprocessing\n",
        "rob_scalar = preprocessing.RobustScaler()\n",
        "df['Amt_Scaled'] = rob_scalar.fit_transform(df['Amount'].values.reshape(-1,1))\n",
        "df['Time_Scaled'] = rob_scalar.fit_transform(df['Time'].values.reshape(-1,1))\n",
        "df.drop(['Time', 'Amount'], axis=1, inplace=True)\n",
        "\n",
        "#STEP 2 - SMALL TWEAK IN DATASET - JUST PIVOTING THE POSITIONS OF TIME AND AMOUNT\n",
        "amt_scl = df['Amt_Scaled']\n",
        "time_scl = df['Time_Scaled']\n",
        "df.drop(['Amt_Scaled', 'Time_Scaled'], axis=1, inplace=True)\n",
        "df.insert(0, 'Amt_Scaled', amt_scl)\n",
        "df.insert(1, 'Time_Scaled', time_scl)\n",
        "#df.head()\n",
        "\n",
        "#RESAMPLING, RESHUFFLING THE DATASET TO CREATE A NEW BALANCED SUB SAMPLE OF THE ORIGINAL DATA\n",
        "df = df.sample(frac=1)\n",
        "fraud_n = df.loc[df['Class'] == 1]\n",
        "no_fraud_n = df.loc[df['Class'] == 0][:492]\n",
        "normal_dist = pd.concat([fraud_n, no_fraud_n])\n",
        "df_shuffled = normal_dist.sample(frac=1, random_state=42)\n",
        "#df_shuffled.head()"
      ],
      "execution_count": 0,
      "outputs": []
    },
    {
      "cell_type": "code",
      "metadata": {
        "id": "uK44cHjvZfDd",
        "colab_type": "code",
        "colab": {}
      },
      "source": [
        "#ANALYSING BIAS IN SUB SAMPLE\n",
        "print('Distribution of the Classes in the subsample dataset')\n",
        "print(df_shuffled['Class'].value_counts()/len(df_shuffled))\n",
        "sns.countplot('Class', data=df_shuffled)\n",
        "plt.title('Equally Distributed Classes', fontsize=14)\n",
        "plt.show()"
      ],
      "execution_count": 0,
      "outputs": []
    },
    {
      "cell_type": "code",
      "metadata": {
        "id": "sJ-GUWYqZ4hT",
        "colab_type": "code",
        "colab": {}
      },
      "source": [
        "#FEATURES AND LABELS\n",
        "features = df_shuffled\n",
        "X = features.drop('Class', 1)\n",
        "Y = df_shuffled.Class\n",
        "\n",
        "#PREPARING TRAINING DATASET AND TEST DATASET\n",
        "from sklearn.model_selection import train_test_split\n",
        "X_train, X_test, Y_train, Y_test = train_test_split(X, Y, test_size=0.30, random_state=0)"
      ],
      "execution_count": 0,
      "outputs": []
    },
    {
      "cell_type": "code",
      "metadata": {
        "id": "PhoT61oi-9hQ",
        "colab_type": "code",
        "colab": {}
      },
      "source": [
        "#GAUSSIAN(NB) NAIVE BAYES\n",
        "from sklearn.naive_bayes import GaussianNB\n",
        "from sklearn import metrics\n",
        "gaussianNB = GaussianNB()\n",
        "gaussianNB.fit(X_train, Y_train)\n",
        "Y_pred_gnb = gaussianNB.predict(X_test)\n",
        "acc_score_gnb = round(metrics.accuracy_score(Y_test,Y_pred_gnb) * 100)\n",
        "bal = metrics.balanced_accuracy_score(Y_test,Y_pred_gnb)\n",
        "pre = metrics.precision_recall_fscore_support(Y_test,Y_pred_gnb, average='binary')\n",
        "print(\"Accuracy:\", acc_score_gnb, \"%\")\n",
        "print(\"Balanced Accuracy:\", round(bal * 100), \"%\")\n",
        "print(\"Precision:\", round(pre[0] * 100), \"%\")\n",
        "print(\"Recall:\", round(pre[1] * 100), \"%\")\n",
        "print(\"F1-Score:\", pre[2])"
      ],
      "execution_count": 0,
      "outputs": []
    },
    {
      "cell_type": "code",
      "metadata": {
        "id": "1RIQORk-s1EB",
        "colab_type": "code",
        "colab": {}
      },
      "source": [
        "X_test_cp_gnb = X_test[['Amt_Scaled', 'Time_Scaled']]\n",
        "#DISPLAYING DECSIONTREECLASSIFIER - DECODED - RESULTS\n",
        "X_test_cp_gnb['Prediction'] = Y_pred_gnb\n",
        "X_test_cp_gnb['Prediction'].replace([1,0],['Fraud Transaction','Legit Transaction'],inplace=True)\n",
        "pd.set_option('display.max_columns', 1000)\n",
        "pd.set_option('display.max_rows', 1000)\n",
        "\n",
        "X_test_cp_gnb.head()"
      ],
      "execution_count": 0,
      "outputs": []
    },
    {
      "cell_type": "code",
      "metadata": {
        "id": "gAE0hMAmRl5n",
        "colab_type": "code",
        "colab": {}
      },
      "source": [
        "#K-NEAREST NEIGHBORS(KNN)\n",
        "from sklearn.neighbors import KNeighborsClassifier\n",
        "knn = KNeighborsClassifier(n_neighbors=7)\n",
        "knn.fit(X_train, Y_train)\n",
        "Y_pred_knn = knn.predict(X_test)\n",
        "acc_score_knn = round(metrics.accuracy_score(Y_test,Y_pred_knn) * 100)\n",
        "bal1 = metrics.balanced_accuracy_score(Y_test,Y_pred_knn)\n",
        "pre1 = metrics.precision_recall_fscore_support(Y_test,Y_pred_knn, average='binary')\n",
        "print(\"Accuracy:\", acc_score_knn, \"%\")\n",
        "print(\"Balanced Accuracy:\", round(bal1 * 100), \"%\")\n",
        "print(\"Precision:\", round(pre1[0] * 100), \"%\")\n",
        "print(\"Recall:\", round(pre1[1] * 100), \"%\")\n",
        "print(\"F1-Score:\", pre1[2])"
      ],
      "execution_count": 0,
      "outputs": []
    },
    {
      "cell_type": "code",
      "metadata": {
        "id": "ZDRFzilW3nUS",
        "colab_type": "code",
        "colab": {}
      },
      "source": [
        "X_test_cp_knn = X_test[['Amt_Scaled', 'Time_Scaled']]\n",
        "#DISPLAYING DECSIONTREECLASSIFIER - DECODED - RESULTS\n",
        "X_test_cp_knn['Prediction'] = Y_pred_knn\n",
        "X_test_cp_knn['Prediction'].replace([1,0],['Fraud Transaction','Legit Transaction'],inplace=True)\n",
        "pd.set_option('display.max_columns', 1000)\n",
        "pd.set_option('display.max_rows', 1000)\n",
        "\n",
        "X_test_cp_knn.head()"
      ],
      "execution_count": 0,
      "outputs": []
    },
    {
      "cell_type": "code",
      "metadata": {
        "id": "7Csp6VkhURql",
        "colab_type": "code",
        "colab": {}
      },
      "source": [
        "#DECISION TREE CLASSIFIER - UNPRUNDED TREE\n",
        "from sklearn.tree import DecisionTreeClassifier\n",
        "dtc_unpruned = DecisionTreeClassifier()\n",
        "dtc_unpruned.fit(X_train, Y_train)\n",
        "Y_pred_dtc_unpruned = dtc_unpruned.predict(X_test)\n",
        "acc_score_dtc_unpruned = round(metrics.accuracy_score(Y_test,Y_pred_dtc_unpruned) * 100)\n",
        "bal2 = metrics.balanced_accuracy_score(Y_test,Y_pred_dtc_unpruned)\n",
        "pre2 = metrics.precision_recall_fscore_support(Y_test,Y_pred_dtc_unpruned, average='binary')\n",
        "print(\"Accuracy:\", acc_score_dtc_unpruned, \"%\")\n",
        "print(\"Balanced Accuracy:\", round(bal2 * 100), \"%\")\n",
        "print(\"Precision:\", round(pre2[0] * 100), \"%\")\n",
        "print(\"Recall:\", round(pre2[1] * 100), \"%\")\n",
        "print(\"F1-Score:\", pre2[2])"
      ],
      "execution_count": 0,
      "outputs": []
    },
    {
      "cell_type": "code",
      "metadata": {
        "id": "yWIrCCaS33JS",
        "colab_type": "code",
        "colab": {}
      },
      "source": [
        "X_test_cp_dtc_unpruned = X_test[['Amt_Scaled', 'Time_Scaled']]\n",
        "#DISPLAYING DECSIONTREECLASSIFIER - DECODED - RESULTS\n",
        "X_test_cp_dtc_unpruned['Prediction'] = Y_pred_dtc_unpruned\n",
        "X_test_cp_dtc_unpruned['Prediction'].replace([1,0],['Fraud Transaction','Legit Transaction'],inplace=True)\n",
        "pd.set_option('display.max_columns', 1000)\n",
        "pd.set_option('display.max_rows', 1000)\n",
        "\n",
        "X_test_cp_dtc_unpruned.head()"
      ],
      "execution_count": 0,
      "outputs": []
    },
    {
      "cell_type": "code",
      "metadata": {
        "id": "sTzKJirXVKBb",
        "colab_type": "code",
        "colab": {}
      },
      "source": [
        "#DECISION TREE CLASSIFIER - PRUNDED TREE\n",
        "dtc_pruned = DecisionTreeClassifier(criterion='entropy', max_depth=3)\n",
        "dtc_pruned.fit(X_train, Y_train)\n",
        "Y_pred_dtc_pruned = dtc_pruned.predict(X_test)\n",
        "acc_score_dtc_pruned = round(metrics.accuracy_score(Y_test,Y_pred_dtc_pruned) * 100)\n",
        "bal3 = metrics.balanced_accuracy_score(Y_test,Y_pred_dtc_pruned)\n",
        "pre3 = metrics.precision_recall_fscore_support(Y_test,Y_pred_dtc_pruned, average='binary')\n",
        "print(\"Accuracy:\", acc_score_dtc_pruned, \"%\")\n",
        "print(\"Balanced Accuracy:\", round(bal3 * 100), \"%\")\n",
        "print(\"Precision:\", round(pre3[0] * 100), \"%\")\n",
        "print(\"Recall:\", round(pre3[1] * 100), \"%\")\n",
        "print(\"F1-Score:\", pre3[2])"
      ],
      "execution_count": 0,
      "outputs": []
    },
    {
      "cell_type": "code",
      "metadata": {
        "id": "pmL4MPrB4H3-",
        "colab_type": "code",
        "colab": {}
      },
      "source": [
        "X_test_cp_dtc_pruned = X_test[['Amt_Scaled', 'Time_Scaled']]\n",
        "#DISPLAYING DECSIONTREECLASSIFIER - DECODED - RESULTS\n",
        "X_test_cp_dtc_pruned['Prediction'] = Y_pred_dtc_pruned\n",
        "X_test_cp_dtc_pruned['Prediction'].replace([1,0],['Fraud Transaction','Legit Transaction'],inplace=True)\n",
        "pd.set_option('display.max_columns', 1000)\n",
        "pd.set_option('display.max_rows', 1000)\n",
        "\n",
        "X_test_cp_dtc_pruned.head()"
      ],
      "execution_count": 0,
      "outputs": []
    },
    {
      "cell_type": "code",
      "metadata": {
        "id": "PQo73FZeWKzs",
        "colab_type": "code",
        "colab": {}
      },
      "source": [
        "#SUPPORT VECTOR MACHINES - KERNEL : SIGMOID\n",
        "from sklearn import svm\n",
        "svm_model_sig = svm.SVC(kernel='sigmoid', gamma='auto')\n",
        "svm_model_sig.fit(X_train, Y_train)\n",
        "Y_pred_svm_sig = svm_model_sig.predict(X_test)\n",
        "acc_score_svm_sig = round(metrics.accuracy_score(Y_test,Y_pred_svm_sig) * 100)\n",
        "bal4 = metrics.balanced_accuracy_score(Y_test,Y_pred_svm_sig)\n",
        "pre4 = metrics.precision_recall_fscore_support(Y_test,Y_pred_svm_sig, average='binary')\n",
        "print(\"Accuracy:\", acc_score_svm_sig, \"%\")\n",
        "print(\"Balanced Accuracy:\", round(bal4 * 100), \"%\")\n",
        "print(\"Precision:\", round(pre4[0] * 100), \"%\")\n",
        "print(\"Recall:\", round(pre4[1] * 100), \"%\")\n",
        "print(\"F1-Score:\", pre4[2])"
      ],
      "execution_count": 0,
      "outputs": []
    },
    {
      "cell_type": "code",
      "metadata": {
        "id": "PGF2co4_4Qj0",
        "colab_type": "code",
        "colab": {}
      },
      "source": [
        "X_test_cp_svm_sig = X_test[['Amt_Scaled', 'Time_Scaled']]\n",
        "#DISPLAYING DECSIONTREECLASSIFIER - DECODED - RESULTS\n",
        "X_test_cp_svm_sig['Prediction'] = Y_pred_svm_sig\n",
        "X_test_cp_svm_sig['Prediction'].replace([1,0],['Fraud Transaction','Legit Transaction'],inplace=True)\n",
        "pd.set_option('display.max_columns', 1000)\n",
        "pd.set_option('display.max_rows', 1000)\n",
        "\n",
        "X_test_cp_svm_sig.head()"
      ],
      "execution_count": 0,
      "outputs": []
    },
    {
      "cell_type": "code",
      "metadata": {
        "id": "5OQZPG8gXbG3",
        "colab_type": "code",
        "colab": {}
      },
      "source": [
        "#SUPPORT VECTOR MACHINES - KERNEL : RBF\n",
        "svm_model_rbf = svm.SVC(kernel='rbf', gamma='auto')\n",
        "svm_model_rbf.fit(X_train, Y_train)\n",
        "Y_pred_svm_rbf = svm_model_rbf.predict(X_test)\n",
        "acc_score_svm_rbf = round(metrics.accuracy_score(Y_test,Y_pred_svm_rbf) * 100)\n",
        "bal5 = metrics.balanced_accuracy_score(Y_test,Y_pred_svm_rbf)\n",
        "pre5 = metrics.precision_recall_fscore_support(Y_test,Y_pred_svm_rbf, average='binary')\n",
        "print(\"Accuracy:\", acc_score_svm_rbf, \"%\")\n",
        "print(\"Balanced Accuracy:\", round(bal5 * 100), \"%\")\n",
        "print(\"Precision:\", round(pre5[0] * 100), \"%\")\n",
        "print(\"Recall:\", round(pre5[1] * 100), \"%\")\n",
        "print(\"F1-Score:\", pre5[2])"
      ],
      "execution_count": 0,
      "outputs": []
    },
    {
      "cell_type": "code",
      "metadata": {
        "id": "nGtSvk254ev-",
        "colab_type": "code",
        "colab": {}
      },
      "source": [
        "X_test_cp_svm_rbf = X_test[['Amt_Scaled', 'Time_Scaled']]\n",
        "#DISPLAYING DECSIONTREECLASSIFIER - DECODED - RESULTS\n",
        "X_test_cp_svm_rbf['Prediction'] = Y_pred_svm_rbf\n",
        "X_test_cp_svm_rbf['Prediction'].replace([1,0],['Fraud Transaction','Legit Transaction'],inplace=True)\n",
        "pd.set_option('display.max_columns', 1000)\n",
        "pd.set_option('display.max_rows', 1000)\n",
        "\n",
        "X_test_cp_svm_rbf.head()"
      ],
      "execution_count": 0,
      "outputs": []
    },
    {
      "cell_type": "code",
      "metadata": {
        "id": "QrL30Auwfx-G",
        "colab_type": "code",
        "colab": {}
      },
      "source": [
        "#SUPPORT VECTOR MACHINES - KERNEL : LINEAR\n",
        "from sklearn import svm\n",
        "from sklearn import metrics\n",
        "svm_model = svm.SVC(kernel='linear', gamma='auto')\n",
        "svm_model.fit(X_train, Y_train)\n",
        "Y_pred_svm = svm_model.predict(X_test)\n",
        "acc_score_svm = round(metrics.accuracy_score(Y_test,Y_pred_svm) * 100)\n",
        "bal6 = metrics.balanced_accuracy_score(Y_test,Y_pred_svm)\n",
        "pre6 = metrics.precision_recall_fscore_support(Y_test,Y_pred_svm, average='binary')\n",
        "print(\"Accuracy:\", acc_score_svm, \"%\")\n",
        "print(\"Balanced Accuracy:\", round(bal6 * 100), \"%\")\n",
        "print(\"Precision:\", round(pre6[0] * 100), \"%\")\n",
        "print(\"Recall:\", round(pre6[1] * 100), \"%\")\n",
        "print(\"F1-Score:\", pre6[2])"
      ],
      "execution_count": 0,
      "outputs": []
    },
    {
      "cell_type": "code",
      "metadata": {
        "id": "VcMM7_Ot4pRs",
        "colab_type": "code",
        "colab": {}
      },
      "source": [
        "X_test_cp_svm = X_test[['Amt_Scaled', 'Time_Scaled']]\n",
        "#DISPLAYING DECSIONTREECLASSIFIER - DECODED - RESULTS\n",
        "X_test_cp_svm['Prediction'] = Y_pred_svm\n",
        "X_test_cp_svm['Prediction'].replace([1,0],['Fraud Transaction','Legit Transaction'],inplace=True)\n",
        "pd.set_option('display.max_columns', 1000)\n",
        "pd.set_option('display.max_rows', 1000)\n",
        "\n",
        "X_test_cp_svm.head()"
      ],
      "execution_count": 0,
      "outputs": []
    }
  ]
}